{
  "nbformat": 4,
  "nbformat_minor": 0,
  "metadata": {
    "colab": {
      "name": "ensembling_submissions.ipynb",
      "version": "0.3.2",
      "provenance": []
    },
    "kernelspec": {
      "name": "python3",
      "display_name": "Python 3"
    },
    "accelerator": "GPU"
  },
  "cells": [
    {
      "metadata": {
        "id": "vhGr3E-BeiuB",
        "colab_type": "code",
        "colab": {}
      },
      "cell_type": "code",
      "source": [
        "import pandas as pd\n",
        "import os"
      ],
      "execution_count": 0,
      "outputs": []
    },
    {
      "metadata": {
        "id": "M8wlDiSceuSX",
        "colab_type": "code",
        "colab": {}
      },
      "cell_type": "code",
      "source": [
        "all_submissions = os.listdir('intel_submissions')"
      ],
      "execution_count": 0,
      "outputs": []
    },
    {
      "metadata": {
        "id": "hqiqDy1iTFlp",
        "colab_type": "code",
        "colab": {
          "base_uri": "https://localhost:8080/",
          "height": 969
        },
        "outputId": "d9564896-664d-4c4f-f005-346d4b696e8c"
      },
      "cell_type": "code",
      "source": [
        "all_submissions"
      ],
      "execution_count": 85,
      "outputs": [
        {
          "output_type": "execute_result",
          "data": {
            "text/plain": [
              "['959817351598173_22.csv',\n",
              " '956164383561644_13.csv',\n",
              " '957077625570776_29.csv',\n",
              " '95662100456621_17.csv',\n",
              " '954794520547945_53.csv',\n",
              " '951141552511416_45.csv',\n",
              " '951598173515982_52.csv',\n",
              " '951141552511416_44.csv',\n",
              " '959817351598173_18.csv',\n",
              " '954794520547945_55.csv',\n",
              " '959817351598173_28.csv',\n",
              " '952054794520548_41.csv',\n",
              " '957077625570776_10.csv',\n",
              " '957990867579909_21.csv',\n",
              " '96027397260274_20.csv',\n",
              " '96027397260274_38.csv',\n",
              " '958447488584475_11.csv',\n",
              " '955707762557078_34.csv',\n",
              " '957534246575342_4.csv',\n",
              " '958447488584475_12.csv',\n",
              " '958904109589041_6.csv',\n",
              " '952054794520548_35.csv',\n",
              " '963470319634703_26.csv',\n",
              " '953424657534247_48.csv',\n",
              " '954794520547945_54.csv',\n",
              " '955707762557078_15.csv',\n",
              " '951141552511416_33.csv',\n",
              " '959360730593607_0.csv',\n",
              " '953424657534247_9.csv',\n",
              " '96027397260274_16.csv',\n",
              " '958447488584475_8.csv',\n",
              " '950684931506849_50.csv',\n",
              " '963013698630137_27.csv',\n",
              " '955707762557078_19.csv',\n",
              " '960730593607306_30.csv',\n",
              " '950228310502283_51.csv',\n",
              " '955707762557078_7.csv',\n",
              " '958447488584475_40.csv',\n",
              " '957990867579909_36.csv',\n",
              " '957990867579909_23.csv',\n",
              " '959360730593607_31.csv',\n",
              " '95662100456621_32.csv',\n",
              " '952054794520548_39.csv',\n",
              " '950684931506849_43.csv',\n",
              " '958447488584475_14.csv',\n",
              " '952511415525114_46.csv',\n",
              " '958904109589041_3.csv',\n",
              " '957990867579909_25.csv',\n",
              " '958904109589041_5.csv',\n",
              " '961187214611872_24.csv',\n",
              " '952054794520548_2.csv',\n",
              " '958447488584475_1.csv',\n",
              " '951141552511416_42.csv',\n",
              " '953424657534247_49.csv',\n",
              " '957990867579909_37.csv',\n",
              " '950228310502283_47.csv']"
            ]
          },
          "metadata": {
            "tags": []
          },
          "execution_count": 85
        }
      ]
    },
    {
      "metadata": {
        "id": "1lI39McMfrTP",
        "colab_type": "code",
        "colab": {}
      },
      "cell_type": "code",
      "source": [
        "submission = pd.read_csv('data/test_WyRytb0.csv')"
      ],
      "execution_count": 0,
      "outputs": []
    },
    {
      "metadata": {
        "id": "6Z77skK0gAXW",
        "colab_type": "code",
        "colab": {}
      },
      "cell_type": "code",
      "source": [
        "submission.set_index('image_name', inplace=True)"
      ],
      "execution_count": 0,
      "outputs": []
    },
    {
      "metadata": {
        "id": "brgwQ6f2gFi9",
        "colab_type": "code",
        "outputId": "c88974db-c68b-418c-d395-d75bd2f5b7e8",
        "colab": {
          "base_uri": "https://localhost:8080/",
          "height": 34
        }
      },
      "cell_type": "code",
      "source": [
        "submission.shape"
      ],
      "execution_count": 71,
      "outputs": [
        {
          "output_type": "execute_result",
          "data": {
            "text/plain": [
              "(7301, 0)"
            ]
          },
          "metadata": {
            "tags": []
          },
          "execution_count": 71
        }
      ]
    },
    {
      "metadata": {
        "id": "rrkfzfDwfKiC",
        "colab_type": "code",
        "colab": {}
      },
      "cell_type": "code",
      "source": [
        "for sub in all_submissions:\n",
        "  if int(sub[1])>=5:\n",
        "    df = pd.read_csv('intel_submissions/'+sub)\n",
        "    df.set_index('image_name', inplace=True)\n",
        "    submission[sub] = df['label']"
      ],
      "execution_count": 0,
      "outputs": []
    },
    {
      "metadata": {
        "id": "s-EGnqNwgh9E",
        "colab_type": "code",
        "outputId": "185e2565-377f-46d3-fad2-580d48232514",
        "colab": {
          "base_uri": "https://localhost:8080/",
          "height": 34
        }
      },
      "cell_type": "code",
      "source": [
        "submission.shape"
      ],
      "execution_count": 73,
      "outputs": [
        {
          "output_type": "execute_result",
          "data": {
            "text/plain": [
              "(7301, 56)"
            ]
          },
          "metadata": {
            "tags": []
          },
          "execution_count": 73
        }
      ]
    },
    {
      "metadata": {
        "id": "8sB5ABcugjrF",
        "colab_type": "code",
        "colab": {}
      },
      "cell_type": "code",
      "source": [
        "final_submission = submission.mode(axis=1).drop(columns=[1]).astype(int)"
      ],
      "execution_count": 0,
      "outputs": []
    },
    {
      "metadata": {
        "id": "Nn9uvCJFhG63",
        "colab_type": "code",
        "colab": {}
      },
      "cell_type": "code",
      "source": [
        "final_submission.rename(columns={0: 'label'}, inplace=True)"
      ],
      "execution_count": 0,
      "outputs": []
    },
    {
      "metadata": {
        "id": "LpIOrYWYhIo4",
        "colab_type": "code",
        "outputId": "81305a41-f800-4c17-ff25-cc8324b01235",
        "colab": {
          "base_uri": "https://localhost:8080/",
          "height": 34
        }
      },
      "cell_type": "code",
      "source": [
        "final_submission.shape"
      ],
      "execution_count": 76,
      "outputs": [
        {
          "output_type": "execute_result",
          "data": {
            "text/plain": [
              "(7301, 1)"
            ]
          },
          "metadata": {
            "tags": []
          },
          "execution_count": 76
        }
      ]
    },
    {
      "metadata": {
        "id": "C4B5AObQh5q1",
        "colab_type": "code",
        "colab": {}
      },
      "cell_type": "code",
      "source": [
        "final_submission.to_csv('ensembled_submission.csv', index=True)"
      ],
      "execution_count": 0,
      "outputs": []
    }
  ]
}